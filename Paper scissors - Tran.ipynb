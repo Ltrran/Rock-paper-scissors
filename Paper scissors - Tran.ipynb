{
 "cells": [
  {
   "cell_type": "code",
   "execution_count": 4,
   "id": "d6e827aa",
   "metadata": {},
   "outputs": [
    {
     "name": "stdout",
     "output_type": "stream",
     "text": [
      "Enter your choice (rock, paper, scissors): rock\n",
      "Computer's choice: rock\n",
      "Your choice: rock\n",
      "It's a draw.\n"
     ]
    }
   ],
   "source": [
    "import random\n",
    "\n",
    "def da_winner(user_choice, computer_choice):\n",
    "    if user_choice == computer_choice:\n",
    "        return \"It's a draw.\"\n",
    "    elif (user_choice == 'rock' and computer_choice == 'scissors') or \\\n",
    "         (user_choice == 'scissors' and computer_choice == 'paper') or \\\n",
    "         (user_choice == 'paper' and computer_choice == 'rock'):\n",
    "        return \"You win!\"\n",
    "    else:\n",
    "        return \"You lose.\"\n",
    "\n",
    "computer_choice_index = random.randint(0, 2)  \n",
    "choices = ['rock', 'paper', 'scissors']\n",
    "computer_choice = choices[computer_choice_index]  \n",
    "user_choice = input(\"Enter your choice (rock, paper, scissors): \")\n",
    "\n",
    "if user_choice in choices:\n",
    "    print(f\"Computer's choice: {computer_choice}\")\n",
    "    print(f\"Your choice: {user_choice}\")\n",
    "    print(da_winner(user_choice, computer_choice))\n",
    "else:\n",
    "    print(\"Invalid choice. Please enter rock, paper, or scissors.\")\n"
   ]
  },
  {
   "cell_type": "code",
   "execution_count": null,
   "id": "caa2d918",
   "metadata": {},
   "outputs": [],
   "source": []
  }
 ],
 "metadata": {
  "kernelspec": {
   "display_name": "Python 3 (ipykernel)",
   "language": "python",
   "name": "python3"
  },
  "language_info": {
   "codemirror_mode": {
    "name": "ipython",
    "version": 3
   },
   "file_extension": ".py",
   "mimetype": "text/x-python",
   "name": "python",
   "nbconvert_exporter": "python",
   "pygments_lexer": "ipython3",
   "version": "3.11.5"
  }
 },
 "nbformat": 4,
 "nbformat_minor": 5
}
